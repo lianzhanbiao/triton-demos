{
  "nbformat": 4,
  "nbformat_minor": 0,
  "metadata": {
    "colab": {
      "provenance": [],
      "gpuType": "T4",
      "authorship_tag": "ABX9TyPytv5QCjvwAiPPuqc+Zqyb",
      "include_colab_link": true
    },
    "kernelspec": {
      "name": "python3",
      "display_name": "Python 3"
    },
    "language_info": {
      "name": "python"
    },
    "accelerator": "GPU"
  },
  "cells": [
    {
      "cell_type": "markdown",
      "metadata": {
        "id": "view-in-github",
        "colab_type": "text"
      },
      "source": [
        "<a href=\"https://colab.research.google.com/github/lianzhanbiao/triton-demos/blob/main/vector_add.ipynb\" target=\"_parent\"><img src=\"https://colab.research.google.com/assets/colab-badge.svg\" alt=\"Open In Colab\"/></a>"
      ]
    },
    {
      "cell_type": "code",
      "source": [
        "!pip install triton"
      ],
      "metadata": {
        "colab": {
          "base_uri": "https://localhost:8080/"
        },
        "id": "ySDzt_adYKPy",
        "outputId": "40635bb8-61a0-4b95-9e81-1ca0e1ce1846"
      },
      "execution_count": 1,
      "outputs": [
        {
          "output_type": "stream",
          "name": "stdout",
          "text": [
            "Requirement already satisfied: triton in /usr/local/lib/python3.11/dist-packages (3.2.0)\n"
          ]
        }
      ]
    },
    {
      "cell_type": "code",
      "execution_count": 3,
      "metadata": {
        "id": "ZUILP8WhVCye"
      },
      "outputs": [],
      "source": [
        "import torch\n",
        "import triton\n",
        "import triton.language as tl\n",
        "\n",
        "\n",
        "@triton.jit\n",
        "def add_kernel(x_ptr,  # *Pointer* to first input vector. 指向第一个输入向量的指针。\n",
        "        y_ptr,  # *Pointer* to second input vector. 指向第二个输入向量的指针。\n",
        "        output_ptr,  # *Pointer* to output vector. 指向输出向量的指针。\n",
        "        n_elements,  # Size of the vector. 向量的大小。\n",
        "        BLOCK_SIZE: tl.constexpr,  # Number of elements each program should process. 每个程序应处理的元素数量。\n",
        "        # NOTE: `constexpr` so it can be used as a shape value. 注意：`constexpr` 因此它可以用作形状值。\n",
        "        ):\n",
        "    # There are multiple 'programs' processing different data. We identify which program\n",
        "    # 有多个“程序”处理不同的数据。需要确定是哪一个程序：\n",
        "    pid = tl.program_id(axis=0)  # We use a 1D launch grid so axis is 0. 使用 1D 启动网格，因此轴为 0。\n",
        "    # This program will process inputs that are offset from the initial data.\n",
        "    # 该程序将处理相对初始数据偏移的输入。\n",
        "    # For instance, if you had a vector of length 256 and block_size of 64, the programs would each access the elements [0:64, 64:128, 128:192, 192:256].\n",
        "    # 例如，如果有一个长度为 256, 块大小为 64 的向量，程序将各自访问 [0:64, 64:128, 128:192, 192:256] 的元素。\n",
        "    # Note that offsets is a list of pointers:\n",
        "    # 注意 offsets 是指针列表：\n",
        "    block_start = pid * BLOCK_SIZE\n",
        "    offsets = block_start + tl.arange(0, BLOCK_SIZE)\n",
        "    # Create a mask to guard memory operations against out-of-bounds accesses.\n",
        "    # 创建掩码以防止内存操作超出边界访问。\n",
        "    mask = offsets < n_elements\n",
        "    # Load x and y from DRAM, masking out any extra elements in case the input is not a multiple of the block size.\n",
        "    # 从 DRAM 加载 x 和 y，如果输入不是块大小的整数倍，则屏蔽掉任何多余的元素。\n",
        "    x = tl.load(x_ptr + offsets, mask=mask)\n",
        "    y = tl.load(y_ptr + offsets, mask=mask)\n",
        "    output = x + y\n",
        "    # Write x + y back to DRAM.\n",
        "    # 将 x + y 写回 DRAM。\n",
        "    tl.store(output_ptr + offsets, output, mask=mask)"
      ]
    },
    {
      "cell_type": "code",
      "source": [
        "def add(x: torch.Tensor, y: torch.Tensor):\n",
        "    # We need to preallocate the output.\n",
        "    # 需要预分配输出。\n",
        "    output = torch.empty_like(x)\n",
        "    assert x.is_cuda and y.is_cuda and output.is_cuda\n",
        "    n_elements = output.numel()\n",
        "    # The SPMD launch grid denotes the number of kernel instances that run in parallel.\n",
        "    # SPMD 启动网格表示并行运行的内核实例的数量。\n",
        "    # It is analogous to CUDA launch grids. It can be either Tuple[int], or Callable(metaparameters) -> Tuple[int].\n",
        "    # 它类似于 CUDA 启动网格。它可以是 Tuple[int]，也可以是 Callable(metaparameters) -> Tuple[int]。\n",
        "    # In this case, we use a 1D grid where the size is the number of blocks:\n",
        "    # 在这种情况下，使用 1D 网格，其中大小是块的数量：\n",
        "    grid = lambda meta: (triton.cdiv(n_elements, meta['BLOCK_SIZE']), )\n",
        "    # NOTE:\n",
        "    # 注意：\n",
        "    #  - Each torch.tensor object is implicitly converted into a pointer to its first element.\n",
        "    #  - 每个 torch.tensor 对象都会隐式转换为其第一个元素的指针。\n",
        "    #  - `triton.jit`'ed functions can be indexed with a launch grid to obtain a callable GPU kernel.\n",
        "    #  - `triton.jit` 函数可以通过启动网格索引来获得可调用的 GPU 内核。\n",
        "    #  - Don't forget to pass meta-parameters as keywords arguments.\n",
        "    #  - 不要忘记以关键字参数传递元参数。\n",
        "    add_kernel[grid](x, y, output, n_elements, BLOCK_SIZE=1024)\n",
        "    # We return a handle to z but, since `torch.cuda.synchronize()` hasn't been called, the kernel is still running asynchronously at this point.\n",
        "    # 返回 z 的句柄，但由于 `torch.cuda.synchronize()` 尚未被调用，此时内核仍在异步运行。\n",
        "    return output"
      ],
      "metadata": {
        "id": "bdiORnz4YsT7"
      },
      "execution_count": 4,
      "outputs": []
    },
    {
      "cell_type": "code",
      "source": [
        "torch.manual_seed(0)\n",
        "size = 98432\n",
        "x = torch.rand(size, device='cuda')\n",
        "y = torch.rand(size, device='cuda')\n",
        "output_torch = x + y\n",
        "output_triton = add(x, y)\n",
        "print(output_torch)\n",
        "print(output_triton)\n",
        "print(f'The maximum difference between torch and triton is '\n",
        "      f'{torch.max(torch.abs(output_torch - output_triton))}')"
      ],
      "metadata": {
        "colab": {
          "base_uri": "https://localhost:8080/"
        },
        "id": "n-ucUWnBaHOU",
        "outputId": "9b45e7e5-b33a-4dce-961f-5964e9b119e2"
      },
      "execution_count": 5,
      "outputs": [
        {
          "output_type": "stream",
          "name": "stdout",
          "text": [
            "tensor([1.3713, 1.3076, 0.4940,  ..., 0.4024, 1.7918, 1.0686], device='cuda:0')\n",
            "tensor([1.3713, 1.3076, 0.4940,  ..., 0.4024, 1.7918, 1.0686], device='cuda:0')\n",
            "The maximum difference between torch and triton is 0.0\n"
          ]
        }
      ]
    },
    {
      "cell_type": "code",
      "source": [
        "@triton.testing.perf_report(\n",
        "    triton.testing.Benchmark(\n",
        "        x_names=['size'],  # Argument names to use as an x-axis for the plot. 用作绘图 x 轴的参数名称。\n",
        "        x_vals=[2**i for i in range(12, 28, 1)],  # Different possible values for `x_name`. `x_name` 的不同可能值。\n",
        "        x_log=True,  # x axis is logarithmic. x 轴为对数。\n",
        "        line_arg='provider',  # Argument name whose value corresponds to a different line in the plot. 参数名称，其值对应于绘图中的不同线条。\n",
        "        line_vals=['triton', 'torch'],  # Possible values for `line_arg`. `line_arg` 的可能值。\n",
        "        line_names=['Triton', 'Torch'],  # Label name for the lines. 线条的标签名称。\n",
        "        styles=[('blue', '-'), ('green', '-')],  # Line styles. 线条样式。\n",
        "        ylabel='GB/s',  # Label name for the y-axis. y 轴标签名称。\n",
        "        plot_name='vector-add-performance',  # Name for the plot. Used also as a file name for saving the plot. 绘图名称。也用作保存绘图的文件名。\n",
        "        args={},  # Values for function arguments not in `x_names` and `y_name`. 不在 `x_names` 和 `y_name` 中的函数参数值。\n",
        "    ))\n",
        "def benchmark(size, provider):\n",
        "    x = torch.rand(size, device='cuda', dtype=torch.float32)\n",
        "    y = torch.rand(size, device='cuda', dtype=torch.float32)\n",
        "    quantiles = [0.5, 0.2, 0.8]\n",
        "    if provider == 'torch':\n",
        "        ms, min_ms, max_ms = triton.testing.do_bench(lambda: x + y, quantiles=quantiles)\n",
        "    if provider == 'triton':\n",
        "        ms, min_ms, max_ms = triton.testing.do_bench(lambda: add(x, y), quantiles=quantiles)\n",
        "    gbps = lambda ms: 3 * x.numel() * x.element_size() / ms * 1e-6\n",
        "    return gbps(ms), gbps(max_ms), gbps(min_ms)"
      ],
      "metadata": {
        "id": "lw-uG8o6coU4"
      },
      "execution_count": 6,
      "outputs": []
    },
    {
      "cell_type": "code",
      "source": [
        "benchmark.run(print_data=True, show_plots=True)"
      ],
      "metadata": {
        "colab": {
          "base_uri": "https://localhost:8080/",
          "height": 781
        },
        "id": "0vR9SBEfcswv",
        "outputId": "fca69571-4e39-469c-e062-edefdf8ada91"
      },
      "execution_count": 7,
      "outputs": [
        {
          "output_type": "display_data",
          "data": {
            "text/plain": [
              "<Figure size 640x480 with 1 Axes>"
            ],
            "image/png": "[encoded data removed]"
          },
          "metadata": {}
        },
        {
          "output_type": "stream",
          "name": "stdout",
          "text": [
            "vector-add-performance:\n",
            "           size      Triton       Torch\n",
            "0        4096.0    7.160839    7.349282\n",
            "1        8192.0   14.222222   16.695652\n",
            "2       16384.0   34.711865   38.520378\n",
            "3       32768.0   63.999998   63.999998\n",
            "4       65536.0  100.721313  101.135802\n",
            "5      131072.0  150.311933  149.171469\n",
            "6      262144.0  185.479239  177.124332\n",
            "7      524288.0  208.492042  195.435392\n",
            "8     1048576.0  219.428568  219.428568\n",
            "9     2097152.0  227.885253  231.235515\n",
            "10    4194304.0  234.057145  238.457249\n",
            "11    8388608.0  236.627648  240.812072\n",
            "12   16777216.0  238.267608  242.197974\n",
            "13   33554432.0  240.361263  244.375833\n",
            "14   67108864.0  241.293479  244.143502\n",
            "15  134217728.0  242.427224  246.412132\n"
          ]
        }
      ]
    }
  ]
}